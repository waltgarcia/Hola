{
  "nbformat": 4,
  "nbformat_minor": 0,
  "metadata": {
    "colab": {
      "name": "Python Basics for Data Science",
      "version": "0.3.2",
      "provenance": [],
      "include_colab_link": true
    },
    "kernelspec": {
      "name": "python3",
      "display_name": "Python 3"
    }
  },
  "cells": [
    {
      "cell_type": "markdown",
      "metadata": {
        "id": "view-in-github",
        "colab_type": "text"
      },
      "source": [
        "[View in Colaboratory](https://colab.research.google.com/github/waltgarcia/Hola/blob/master/Python_Basics_for_Data_Science.ipynb)"
      ]
    },
    {
      "metadata": {
        "id": "ze9gpVVoEpxf",
        "colab_type": "text"
      },
      "cell_type": "markdown",
      "source": [
        "**Expressions and Variables**"
      ]
    },
    {
      "metadata": {
        "id": "4HyDueg9E2RJ",
        "colab_type": "text"
      },
      "cell_type": "markdown",
      "source": [
        "**String operations**"
      ]
    },
    {
      "metadata": {
        "id": "jJXZ7rMOE3hP",
        "colab_type": "code",
        "colab": {}
      },
      "cell_type": "code",
      "source": [
        "name = \"Michael Jackson\""
      ],
      "execution_count": 0,
      "outputs": []
    },
    {
      "metadata": {
        "id": "ZrCdBfPEFC4w",
        "colab_type": "code",
        "colab": {
          "base_uri": "https://localhost:8080/",
          "height": 34
        },
        "outputId": "a5b6ebb3-a6e7-4006-bc30-79a18a661e2d"
      },
      "cell_type": "code",
      "source": [
        "name[0:4]"
      ],
      "execution_count": 3,
      "outputs": [
        {
          "output_type": "execute_result",
          "data": {
            "text/plain": [
              "'Mich'"
            ]
          },
          "metadata": {
            "tags": []
          },
          "execution_count": 3
        }
      ]
    },
    {
      "metadata": {
        "id": "6hEOkwPDFKB_",
        "colab_type": "code",
        "colab": {
          "base_uri": "https://localhost:8080/",
          "height": 34
        },
        "outputId": "820e08cc-7653-4f05-b89d-847a3b96adbb"
      },
      "cell_type": "code",
      "source": [
        "name[8:12]"
      ],
      "execution_count": 4,
      "outputs": [
        {
          "output_type": "execute_result",
          "data": {
            "text/plain": [
              "'Jack'"
            ]
          },
          "metadata": {
            "tags": []
          },
          "execution_count": 4
        }
      ]
    },
    {
      "metadata": {
        "id": "YjNinvTsFUFy",
        "colab_type": "code",
        "colab": {
          "base_uri": "https://localhost:8080/",
          "height": 34
        },
        "outputId": "cd4500f9-465d-491b-f333-7281ed207519"
      },
      "cell_type": "code",
      "source": [
        "name[::2]"
      ],
      "execution_count": 5,
      "outputs": [
        {
          "output_type": "execute_result",
          "data": {
            "text/plain": [
              "'McalJcsn'"
            ]
          },
          "metadata": {
            "tags": []
          },
          "execution_count": 5
        }
      ]
    },
    {
      "metadata": {
        "id": "lGeMhV2wFZPX",
        "colab_type": "code",
        "colab": {
          "base_uri": "https://localhost:8080/",
          "height": 34
        },
        "outputId": "a5888178-ec00-4ed9-a9c4-4f7c5139044e"
      },
      "cell_type": "code",
      "source": [
        "len(name)"
      ],
      "execution_count": 7,
      "outputs": [
        {
          "output_type": "execute_result",
          "data": {
            "text/plain": [
              "15"
            ]
          },
          "metadata": {
            "tags": []
          },
          "execution_count": 7
        }
      ]
    },
    {
      "metadata": {
        "id": "1IwSaKmBFb3B",
        "colab_type": "code",
        "colab": {
          "base_uri": "https://localhost:8080/",
          "height": 34
        },
        "outputId": "0a12de9c-7780-4258-c2bc-d611c0a47d0a"
      },
      "cell_type": "code",
      "source": [
        "3*name"
      ],
      "execution_count": 8,
      "outputs": [
        {
          "output_type": "execute_result",
          "data": {
            "text/plain": [
              "'Michael JacksonMichael JacksonMichael Jackson'"
            ]
          },
          "metadata": {
            "tags": []
          },
          "execution_count": 8
        }
      ]
    },
    {
      "metadata": {
        "id": "dybs9oXyFflA",
        "colab_type": "code",
        "colab": {
          "base_uri": "https://localhost:8080/",
          "height": 52
        },
        "outputId": "f6caa5d9-a22d-4eb8-8951-b1db7f20d067"
      },
      "cell_type": "code",
      "source": [
        "print (\"Michael Jackson \\nis the best\")"
      ],
      "execution_count": 9,
      "outputs": [
        {
          "output_type": "stream",
          "text": [
            "Michael Jackson \n",
            "is the best\n"
          ],
          "name": "stdout"
        }
      ]
    },
    {
      "metadata": {
        "id": "fxVFhf2BFpyd",
        "colab_type": "code",
        "colab": {
          "base_uri": "https://localhost:8080/",
          "height": 34
        },
        "outputId": "9e89939c-2aff-4c76-9e36-e2b0c1ebd938"
      },
      "cell_type": "code",
      "source": [
        "print (\"Michael Jackson \\tis the best\")"
      ],
      "execution_count": 10,
      "outputs": [
        {
          "output_type": "stream",
          "text": [
            "Michael Jackson \tis the best\n"
          ],
          "name": "stdout"
        }
      ]
    },
    {
      "metadata": {
        "id": "-Do7mfHbF4S0",
        "colab_type": "code",
        "colab": {
          "base_uri": "https://localhost:8080/",
          "height": 34
        },
        "outputId": "ee956d6b-79d4-43f5-fbb4-11a9b82d175a"
      },
      "cell_type": "code",
      "source": [
        "Numbers = \"0123456\"\n",
        "Numbers[::2]"
      ],
      "execution_count": 13,
      "outputs": [
        {
          "output_type": "execute_result",
          "data": {
            "text/plain": [
              "'0246'"
            ]
          },
          "metadata": {
            "tags": []
          },
          "execution_count": 13
        }
      ]
    },
    {
      "metadata": {
        "id": "mF1Vx_T9GH5q",
        "colab_type": "code",
        "colab": {
          "base_uri": "https://localhost:8080/",
          "height": 34
        },
        "outputId": "8ddb4c52-2b0e-4eb7-9e09-fe23f8e9ed0a"
      },
      "cell_type": "code",
      "source": [
        "\"0123456\".find(\"1\")"
      ],
      "execution_count": 14,
      "outputs": [
        {
          "output_type": "execute_result",
          "data": {
            "text/plain": [
              "1"
            ]
          },
          "metadata": {
            "tags": []
          },
          "execution_count": 14
        }
      ]
    },
    {
      "metadata": {
        "id": "aXAmRmzYGN43",
        "colab_type": "code",
        "colab": {
          "base_uri": "https://localhost:8080/",
          "height": 34
        },
        "outputId": "b1dd6dc2-eacd-4c08-afd5-6be68990b964"
      },
      "cell_type": "code",
      "source": [
        "3 + 2 * 2"
      ],
      "execution_count": 15,
      "outputs": [
        {
          "output_type": "execute_result",
          "data": {
            "text/plain": [
              "7"
            ]
          },
          "metadata": {
            "tags": []
          },
          "execution_count": 15
        }
      ]
    },
    {
      "metadata": {
        "id": "XWwm2kAEGYMt",
        "colab_type": "code",
        "colab": {
          "base_uri": "https://localhost:8080/",
          "height": 34
        },
        "outputId": "22ea6107-317a-4769-f755-476a074cfdd1"
      },
      "cell_type": "code",
      "source": [
        "name = \"Lizz\"\n",
        "print(name[0:2])"
      ],
      "execution_count": 16,
      "outputs": [
        {
          "output_type": "stream",
          "text": [
            "Li\n"
          ],
          "name": "stdout"
        }
      ]
    },
    {
      "metadata": {
        "id": "7F2OW6hPGeM3",
        "colab_type": "code",
        "colab": {}
      },
      "cell_type": "code",
      "source": [
        "var = \"01234567\""
      ],
      "execution_count": 0,
      "outputs": []
    },
    {
      "metadata": {
        "id": "SZqkxqvpGh3E",
        "colab_type": "code",
        "colab": {
          "base_uri": "https://localhost:8080/",
          "height": 34
        },
        "outputId": "b44f8ed2-97f7-43ae-8074-90f090d420eb"
      },
      "cell_type": "code",
      "source": [
        "print(var[::2])"
      ],
      "execution_count": 18,
      "outputs": [
        {
          "output_type": "stream",
          "text": [
            "0246\n"
          ],
          "name": "stdout"
        }
      ]
    },
    {
      "metadata": {
        "id": "DGfclmmoGjq1",
        "colab_type": "code",
        "colab": {
          "base_uri": "https://localhost:8080/",
          "height": 34
        },
        "outputId": "b07f930b-a0a5-49fa-c96c-98b23b5cfa15"
      },
      "cell_type": "code",
      "source": [
        "\"1\" + \"2\""
      ],
      "execution_count": 19,
      "outputs": [
        {
          "output_type": "execute_result",
          "data": {
            "text/plain": [
              "'12'"
            ]
          },
          "metadata": {
            "tags": []
          },
          "execution_count": 19
        }
      ]
    },
    {
      "metadata": {
        "id": "xAd-JkeLGnOX",
        "colab_type": "code",
        "colab": {}
      },
      "cell_type": "code",
      "source": [
        "myvar = \"hello\""
      ],
      "execution_count": 0,
      "outputs": []
    },
    {
      "metadata": {
        "id": "YOlod-diGsZW",
        "colab_type": "code",
        "colab": {
          "base_uri": "https://localhost:8080/",
          "height": 34
        },
        "outputId": "a117b623-c8c0-4a29-db72-49806653ab2d"
      },
      "cell_type": "code",
      "source": [
        "myvar.upper()"
      ],
      "execution_count": 21,
      "outputs": [
        {
          "output_type": "execute_result",
          "data": {
            "text/plain": [
              "'HELLO'"
            ]
          },
          "metadata": {
            "tags": []
          },
          "execution_count": 21
        }
      ]
    },
    {
      "metadata": {
        "id": "3om941QEGt25",
        "colab_type": "code",
        "colab": {}
      },
      "cell_type": "code",
      "source": [
        ""
      ],
      "execution_count": 0,
      "outputs": []
    },
    {
      "metadata": {
        "id": "ukYb93y1Gz7P",
        "colab_type": "text"
      },
      "cell_type": "markdown",
      "source": [
        "**List and tupples**"
      ]
    },
    {
      "metadata": {
        "id": "ON2tQ-DiG5QF",
        "colab_type": "text"
      },
      "cell_type": "markdown",
      "source": [
        "List and tupples are callend compund data types. \n",
        "Tuples are an ordered sequence\n",
        "\n",
        "\n",
        "*   Tuples are and ordered sequence. Tuples are expressed as comma-separated elements within parentheses. \n",
        "All the elementsof the tuple can be accesed by an index.\n",
        "\n",
        "\n"
      ]
    },
    {
      "metadata": {
        "id": "OOQzg2J9G8Aw",
        "colab_type": "code",
        "colab": {}
      },
      "cell_type": "code",
      "source": [
        "L = [\"Michael Jackson\", 10.1, 1982]"
      ],
      "execution_count": 0,
      "outputs": []
    },
    {
      "metadata": {
        "id": "7ZIxMuf_IIij",
        "colab_type": "code",
        "colab": {}
      },
      "cell_type": "code",
      "source": [
        "L.extend([\"pop\", 10])"
      ],
      "execution_count": 0,
      "outputs": []
    },
    {
      "metadata": {
        "id": "JCdmCvYKIL4A",
        "colab_type": "code",
        "colab": {
          "base_uri": "https://localhost:8080/",
          "height": 34
        },
        "outputId": "6274e412-8b09-476a-b4de-5e6106e102f6"
      },
      "cell_type": "code",
      "source": [
        "L"
      ],
      "execution_count": 24,
      "outputs": [
        {
          "output_type": "execute_result",
          "data": {
            "text/plain": [
              "['Michael Jackson', 10.1, 1982, 'pop', 10]"
            ]
          },
          "metadata": {
            "tags": []
          },
          "execution_count": 24
        }
      ]
    },
    {
      "metadata": {
        "id": "nZOylsHEIMv7",
        "colab_type": "code",
        "colab": {
          "base_uri": "https://localhost:8080/",
          "height": 34
        },
        "outputId": "d06a49b3-bcb1-4af8-c0f1-6bb70018599f"
      },
      "cell_type": "code",
      "source": [
        "\"Michael Jackson\".split()"
      ],
      "execution_count": 25,
      "outputs": [
        {
          "output_type": "execute_result",
          "data": {
            "text/plain": [
              "['Michael', 'Jackson']"
            ]
          },
          "metadata": {
            "tags": []
          },
          "execution_count": 25
        }
      ]
    },
    {
      "metadata": {
        "id": "8e-ykdnwIbUx",
        "colab_type": "code",
        "colab": {
          "base_uri": "https://localhost:8080/",
          "height": 34
        },
        "outputId": "200bdf03-914a-41da-80f0-ab18a6214727"
      },
      "cell_type": "code",
      "source": [
        "A=(0,1,2,3)\n",
        "#access to the last element\n",
        "A[3]"
      ],
      "execution_count": 26,
      "outputs": [
        {
          "output_type": "execute_result",
          "data": {
            "text/plain": [
              "3"
            ]
          },
          "metadata": {
            "tags": []
          },
          "execution_count": 26
        }
      ]
    },
    {
      "metadata": {
        "id": "LkRyIQnrI3i5",
        "colab_type": "code",
        "colab": {}
      },
      "cell_type": "code",
      "source": [
        "B = [\"a\", \"b\",\"c\" ]"
      ],
      "execution_count": 0,
      "outputs": []
    },
    {
      "metadata": {
        "id": "GJtF9mGfM4G5",
        "colab_type": "code",
        "colab": {
          "base_uri": "https://localhost:8080/",
          "height": 34
        },
        "outputId": "f4e18091-ee8f-4499-8257-a37a22071124"
      },
      "cell_type": "code",
      "source": [
        "B[1:]"
      ],
      "execution_count": 28,
      "outputs": [
        {
          "output_type": "execute_result",
          "data": {
            "text/plain": [
              "['b', 'c']"
            ]
          },
          "metadata": {
            "tags": []
          },
          "execution_count": 28
        }
      ]
    },
    {
      "metadata": {
        "id": "YlgBAE14NHP3",
        "colab_type": "text"
      },
      "cell_type": "markdown",
      "source": [
        "**Sets**"
      ]
    },
    {
      "metadata": {
        "id": "WS3bh1t-NI5C",
        "colab_type": "code",
        "colab": {
          "base_uri": "https://localhost:8080/",
          "height": 34
        },
        "outputId": "53275a3f-a61b-4c8a-9b4b-05f1e4129d0d"
      },
      "cell_type": "code",
      "source": [
        "Set1 = {'pop', 'rock', 'soul', 'hard rock', 'rock', 'R&B', 'rock', 'disco'}\n",
        "set1 = set(Set1)\n",
        "set1"
      ],
      "execution_count": 33,
      "outputs": [
        {
          "output_type": "execute_result",
          "data": {
            "text/plain": [
              "{'R&B', 'disco', 'hard rock', 'pop', 'rock', 'soul'}"
            ]
          },
          "metadata": {
            "tags": []
          },
          "execution_count": 33
        }
      ]
    },
    {
      "metadata": {
        "id": "74e7LtdXNV-9",
        "colab_type": "code",
        "colab": {
          "base_uri": "https://localhost:8080/",
          "height": 34
        },
        "outputId": "b75de0af-9c12-4f6a-ae24-ea5d0d3653af"
      },
      "cell_type": "code",
      "source": [
        "album_list = [\"Michael Jackson\", \"Thriller\", \"Thriller\", 1982]\n",
        "album_set = set(album_list) #erases repetition\n",
        "album_set"
      ],
      "execution_count": 31,
      "outputs": [
        {
          "output_type": "execute_result",
          "data": {
            "text/plain": [
              "{1982, 'Michael Jackson', 'Thriller'}"
            ]
          },
          "metadata": {
            "tags": []
          },
          "execution_count": 31
        }
      ]
    },
    {
      "metadata": {
        "id": "m-CwBq9tNmmx",
        "colab_type": "code",
        "colab": {
          "base_uri": "https://localhost:8080/",
          "height": 34
        },
        "outputId": "8ee1be66-b684-45d2-f2e7-c3b76e0fd18d"
      },
      "cell_type": "code",
      "source": [
        "S = {'A', 'B', 'C', 'Z'}\n",
        "U = {'A','Z','C' }\n",
        "U.union(S)"
      ],
      "execution_count": 40,
      "outputs": [
        {
          "output_type": "execute_result",
          "data": {
            "text/plain": [
              "{'A', 'B', 'C', 'Z'}"
            ]
          },
          "metadata": {
            "tags": []
          },
          "execution_count": 40
        }
      ]
    },
    {
      "metadata": {
        "id": "3sJr4BNxO5QX",
        "colab_type": "code",
        "colab": {}
      },
      "cell_type": "code",
      "source": [
        ""
      ],
      "execution_count": 0,
      "outputs": []
    },
    {
      "metadata": {
        "id": "sIAP0K51PP9v",
        "colab_type": "text"
      },
      "cell_type": "markdown",
      "source": [
        "**Dictionaries**"
      ]
    },
    {
      "metadata": {
        "id": "g3EseUvoPVle",
        "colab_type": "code",
        "colab": {}
      },
      "cell_type": "code",
      "source": [
        "album = {\"Thriller\" : 1982, \"Back in Black\": 1980, \"The Dark Side of the Moon\": 1973, \"The Bodyguard\":1992}"
      ],
      "execution_count": 0,
      "outputs": []
    },
    {
      "metadata": {
        "id": "hElVipR6PsSv",
        "colab_type": "code",
        "colab": {
          "base_uri": "https://localhost:8080/",
          "height": 34
        },
        "outputId": "c663579b-bcbf-4cc3-ffe9-08a3296df14b"
      },
      "cell_type": "code",
      "source": [
        "album[\"Thriller\"]"
      ],
      "execution_count": 42,
      "outputs": [
        {
          "output_type": "execute_result",
          "data": {
            "text/plain": [
              "1982"
            ]
          },
          "metadata": {
            "tags": []
          },
          "execution_count": 42
        }
      ]
    },
    {
      "metadata": {
        "id": "Lw6rRVwwPzh0",
        "colab_type": "code",
        "colab": {}
      },
      "cell_type": "code",
      "source": [
        "album[\"Graduation\"] = 2007"
      ],
      "execution_count": 0,
      "outputs": []
    },
    {
      "metadata": {
        "id": "S8zsJxEzP8HX",
        "colab_type": "code",
        "colab": {
          "base_uri": "https://localhost:8080/",
          "height": 105
        },
        "outputId": "6c3a22f3-7969-43b4-8e31-c7142bb0d009"
      },
      "cell_type": "code",
      "source": [
        "album"
      ],
      "execution_count": 44,
      "outputs": [
        {
          "output_type": "execute_result",
          "data": {
            "text/plain": [
              "{'Back in Black': 1980,\n",
              " 'Graduation': 2007,\n",
              " 'The Bodyguard': 1992,\n",
              " 'The Dark Side of the Moon': 1973,\n",
              " 'Thriller': 1982}"
            ]
          },
          "metadata": {
            "tags": []
          },
          "execution_count": 44
        }
      ]
    },
    {
      "metadata": {
        "id": "3bBE4_gUP82L",
        "colab_type": "code",
        "colab": {
          "base_uri": "https://localhost:8080/",
          "height": 34
        },
        "outputId": "c8b45f0f-748e-433d-b28f-4d252b9ce604"
      },
      "cell_type": "code",
      "source": [
        "type(album)"
      ],
      "execution_count": 45,
      "outputs": [
        {
          "output_type": "execute_result",
          "data": {
            "text/plain": [
              "dict"
            ]
          },
          "metadata": {
            "tags": []
          },
          "execution_count": 45
        }
      ]
    },
    {
      "metadata": {
        "id": "v_2ROFLcQANB",
        "colab_type": "code",
        "colab": {
          "base_uri": "https://localhost:8080/",
          "height": 87
        },
        "outputId": "7727a95d-3319-497a-9fcc-a6e88881c8ff"
      },
      "cell_type": "code",
      "source": [
        "del(album[\"Thriller\"])\n",
        "album"
      ],
      "execution_count": 46,
      "outputs": [
        {
          "output_type": "execute_result",
          "data": {
            "text/plain": [
              "{'Back in Black': 1980,\n",
              " 'Graduation': 2007,\n",
              " 'The Bodyguard': 1992,\n",
              " 'The Dark Side of the Moon': 1973}"
            ]
          },
          "metadata": {
            "tags": []
          },
          "execution_count": 46
        }
      ]
    },
    {
      "metadata": {
        "id": "J2og4iCuQHFm",
        "colab_type": "code",
        "colab": {
          "base_uri": "https://localhost:8080/",
          "height": 54
        },
        "outputId": "e83a3c4e-73b8-4fe6-800c-8d0c71cb7a6a"
      },
      "cell_type": "code",
      "source": [
        "album.keys()"
      ],
      "execution_count": 47,
      "outputs": [
        {
          "output_type": "execute_result",
          "data": {
            "text/plain": [
              "dict_keys(['Back in Black', 'The Dark Side of the Moon', 'The Bodyguard', 'Graduation'])"
            ]
          },
          "metadata": {
            "tags": []
          },
          "execution_count": 47
        }
      ]
    },
    {
      "metadata": {
        "id": "CdT5xforQM_U",
        "colab_type": "code",
        "colab": {
          "base_uri": "https://localhost:8080/",
          "height": 34
        },
        "outputId": "cd932cc1-228b-4681-bb23-ddd7823ee4f6"
      },
      "cell_type": "code",
      "source": [
        "album.values()"
      ],
      "execution_count": 48,
      "outputs": [
        {
          "output_type": "execute_result",
          "data": {
            "text/plain": [
              "dict_values([1980, 1973, 1992, 2007])"
            ]
          },
          "metadata": {
            "tags": []
          },
          "execution_count": 48
        }
      ]
    },
    {
      "metadata": {
        "id": "VR4xkxauQSua",
        "colab_type": "code",
        "colab": {
          "base_uri": "https://localhost:8080/",
          "height": 34
        },
        "outputId": "ee095bb0-8c6f-4c49-9c5f-5ada6befd06e"
      },
      "cell_type": "code",
      "source": [
        "D = {\"a\": 0, \"b\":1, \"c\":2}\n",
        "D.values()"
      ],
      "execution_count": 49,
      "outputs": [
        {
          "output_type": "execute_result",
          "data": {
            "text/plain": [
              "dict_values([0, 1, 2])"
            ]
          },
          "metadata": {
            "tags": []
          },
          "execution_count": 49
        }
      ]
    },
    {
      "metadata": {
        "id": "PNCqLEfiQr6P",
        "colab_type": "code",
        "colab": {
          "base_uri": "https://localhost:8080/",
          "height": 34
        },
        "outputId": "c03ba8a2-082d-4bdf-da92-d0d29552a90b"
      },
      "cell_type": "code",
      "source": [
        "D[\"b\"]"
      ],
      "execution_count": 50,
      "outputs": [
        {
          "output_type": "execute_result",
          "data": {
            "text/plain": [
              "1"
            ]
          },
          "metadata": {
            "tags": []
          },
          "execution_count": 50
        }
      ]
    },
    {
      "metadata": {
        "id": "slVp3RVWQvSy",
        "colab_type": "code",
        "colab": {
          "base_uri": "https://localhost:8080/",
          "height": 34
        },
        "outputId": "4f546ab4-0ad0-45f6-bffd-dc2084cfb21d"
      },
      "cell_type": "code",
      "source": [
        "A = ('a','b','c')\n",
        "A[0]"
      ],
      "execution_count": 51,
      "outputs": [
        {
          "output_type": "execute_result",
          "data": {
            "text/plain": [
              "'a'"
            ]
          },
          "metadata": {
            "tags": []
          },
          "execution_count": 51
        }
      ]
    },
    {
      "metadata": {
        "id": "ZVhxYNGYRCWu",
        "colab_type": "code",
        "colab": {
          "base_uri": "https://localhost:8080/",
          "height": 34
        },
        "outputId": "f045e9ef-cea9-4bfa-c475-1d9a7014d9d5"
      },
      "cell_type": "code",
      "source": [
        "Dict={\"A\":1,\"B\":\"2\",\"C\":[3,3,3],\"D\":(4,4,4),'E':5,'F':6}\n",
        "Dict[\"D\"]"
      ],
      "execution_count": 52,
      "outputs": [
        {
          "output_type": "execute_result",
          "data": {
            "text/plain": [
              "(4, 4, 4)"
            ]
          },
          "metadata": {
            "tags": []
          },
          "execution_count": 52
        }
      ]
    },
    {
      "metadata": {
        "id": "-DFEEaXmSNMt",
        "colab_type": "text"
      },
      "cell_type": "markdown",
      "source": [
        "**Conditionals and branching**"
      ]
    },
    {
      "metadata": {
        "id": "9Rzr48vFSPut",
        "colab_type": "code",
        "colab": {
          "base_uri": "https://localhost:8080/",
          "height": 70
        },
        "outputId": "4c0259d8-6160-4aeb-df82-23f0bbc7b95d"
      },
      "cell_type": "code",
      "source": [
        "edad = input(\"What is your age?\")\n",
        "ed = int(edad)\n",
        "\n",
        "if (ed > 18):\n",
        "  print(\"You can enter!\")\n",
        "print(\"Move on\")"
      ],
      "execution_count": 58,
      "outputs": [
        {
          "output_type": "stream",
          "text": [
            "What is your age?20\n",
            "You can enter\n",
            "Move on\n"
          ],
          "name": "stdout"
        }
      ]
    },
    {
      "metadata": {
        "id": "uJezjUdfUIMU",
        "colab_type": "code",
        "colab": {
          "base_uri": "https://localhost:8080/",
          "height": 70
        },
        "outputId": "556cfeec-262d-410f-ff3f-a7c598434382"
      },
      "cell_type": "code",
      "source": [
        "edad = input(\"What is your age? \") #recibir informacion\n",
        "ed = int(edad) #convertir str a int\n",
        "\n",
        "if (ed > 18): #evaluar int\n",
        "  print(\"You can enter!\")\n",
        "else:\n",
        "  print(\"You can't enter\")\n",
        "print(\"Move on\")"
      ],
      "execution_count": 61,
      "outputs": [
        {
          "output_type": "stream",
          "text": [
            "What is your age? 15\n",
            "You can't enter\n",
            "Move on\n"
          ],
          "name": "stdout"
        }
      ]
    },
    {
      "metadata": {
        "id": "J9b0rByCXAvN",
        "colab_type": "code",
        "colab": {}
      },
      "cell_type": "code",
      "source": [
        "edad = input(\"What is your age? \") #recibir informacion\n",
        "ed = int(edad) #convertir str a int\n",
        "\n",
        "if (ed > 18): #evaluar int\n",
        "  print(\"You can enter!\")\n",
        "else:\n",
        "  print(\"You can't enter\")\n",
        "print(\"Move on\")"
      ],
      "execution_count": 0,
      "outputs": []
    }
  ]
}